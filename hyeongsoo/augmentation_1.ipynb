{
 "cells": [
  {
   "cell_type": "markdown",
   "metadata": {},
   "source": [
    "# 모든 훈련데이터셋에 대해서 데이터 증강하기\n",
    "1. HorizontalFlip\n",
    "2. Blur\n",
    "3. GaussNoise\n",
    "4. ISONoise\n",
    "5. Rotation (45, 90, 135, 180, 225, 270, 315)"
   ]
  },
  {
   "cell_type": "code",
   "execution_count": 1,
   "metadata": {},
   "outputs": [],
   "source": [
    "import pandas as pd\n",
    "import numpy as np\n",
    "import seaborn as sns\n",
    "import matplotlib.pyplot as plt\n",
    "import albumentations as A\n",
    "import cv2\n",
    "import warnings\n",
    "warnings.filterwarnings('ignore')"
   ]
  },
  {
   "cell_type": "markdown",
   "metadata": {},
   "source": [
    "## 모든 훈련데이터에 대해서 좌우반전된 사진 생성"
   ]
  },
  {
   "cell_type": "code",
   "execution_count": 2,
   "metadata": {},
   "outputs": [],
   "source": [
    "train = pd.read_csv('./data/train.csv')"
   ]
  },
  {
   "cell_type": "code",
   "execution_count": 3,
   "metadata": {},
   "outputs": [
    {
     "data": {
      "text/html": [
       "<div>\n",
       "<style scoped>\n",
       "    .dataframe tbody tr th:only-of-type {\n",
       "        vertical-align: middle;\n",
       "    }\n",
       "\n",
       "    .dataframe tbody tr th {\n",
       "        vertical-align: top;\n",
       "    }\n",
       "\n",
       "    .dataframe thead th {\n",
       "        text-align: right;\n",
       "    }\n",
       "</style>\n",
       "<table border=\"1\" class=\"dataframe\">\n",
       "  <thead>\n",
       "    <tr style=\"text-align: right;\">\n",
       "      <th></th>\n",
       "      <th>ID</th>\n",
       "      <th>target</th>\n",
       "    </tr>\n",
       "  </thead>\n",
       "  <tbody>\n",
       "    <tr>\n",
       "      <th>0</th>\n",
       "      <td>002f99746285dfdd.jpg</td>\n",
       "      <td>16</td>\n",
       "    </tr>\n",
       "    <tr>\n",
       "      <th>1</th>\n",
       "      <td>008ccd231e1fea5d.jpg</td>\n",
       "      <td>10</td>\n",
       "    </tr>\n",
       "    <tr>\n",
       "      <th>2</th>\n",
       "      <td>008f5911bfda7695.jpg</td>\n",
       "      <td>10</td>\n",
       "    </tr>\n",
       "    <tr>\n",
       "      <th>3</th>\n",
       "      <td>009235e4c9c07af5.jpg</td>\n",
       "      <td>4</td>\n",
       "    </tr>\n",
       "    <tr>\n",
       "      <th>4</th>\n",
       "      <td>00b2f44967580c74.jpg</td>\n",
       "      <td>16</td>\n",
       "    </tr>\n",
       "  </tbody>\n",
       "</table>\n",
       "</div>"
      ],
      "text/plain": [
       "                     ID  target\n",
       "0  002f99746285dfdd.jpg      16\n",
       "1  008ccd231e1fea5d.jpg      10\n",
       "2  008f5911bfda7695.jpg      10\n",
       "3  009235e4c9c07af5.jpg       4\n",
       "4  00b2f44967580c74.jpg      16"
      ]
     },
     "execution_count": 3,
     "metadata": {},
     "output_type": "execute_result"
    }
   ],
   "source": [
    "train.head()"
   ]
  },
  {
   "cell_type": "code",
   "execution_count": 4,
   "metadata": {},
   "outputs": [
    {
     "data": {
      "text/plain": [
       "(1570, 2)"
      ]
     },
     "execution_count": 4,
     "metadata": {},
     "output_type": "execute_result"
    }
   ],
   "source": [
    "train.shape"
   ]
  },
  {
   "cell_type": "code",
   "execution_count": 5,
   "metadata": {},
   "outputs": [],
   "source": [
    "train_img_list = train['ID'].to_list()"
   ]
  },
  {
   "cell_type": "code",
   "execution_count": 6,
   "metadata": {},
   "outputs": [],
   "source": [
    "transform = A.Compose([\n",
    "    A.HorizontalFlip(p=1)\n",
    "])\n",
    "\n",
    "for img in train_img_list:\n",
    "    image = cv2.imread(f\"./data/train/{img}\")\n",
    "    transformed_1 = transform(image=image)\n",
    "    transformed_image_1 = transformed_1[\"image\"]\n",
    "    cv2.imwrite(f\"./data/train/flipped_{img}\", transformed_image_1)\n",
    "    target_value = train.loc[train['ID'] == img, 'target'].iloc[0]\n",
    "    new_row = {'ID': f'flipped_{img}', 'target': target_value}\n",
    "    train = train.append(new_row, ignore_index=True)\n"
   ]
  },
  {
   "cell_type": "code",
   "execution_count": 7,
   "metadata": {},
   "outputs": [
    {
     "data": {
      "text/plain": [
       "(3140, 2)"
      ]
     },
     "execution_count": 7,
     "metadata": {},
     "output_type": "execute_result"
    }
   ],
   "source": [
    "train.shape"
   ]
  },
  {
   "cell_type": "markdown",
   "metadata": {},
   "source": [
    "## 모든 훈련데이터에 Blur, GaussNoise, ISONoise 처리한 데이터 만들기"
   ]
  },
  {
   "cell_type": "code",
   "execution_count": 8,
   "metadata": {},
   "outputs": [],
   "source": [
    "train_img_list = train['ID'].to_list()"
   ]
  },
  {
   "cell_type": "code",
   "execution_count": 9,
   "metadata": {},
   "outputs": [],
   "source": [
    "transform_1 = A.Compose([\n",
    "    A.Blur(blur_limit=[4,4], always_apply=True)\n",
    "])\n",
    "transform_2 = A.Compose([\n",
    "    A.GaussNoise(var_limit=(300, 300), p=1.0)\n",
    "])\n",
    "transform_3 = A.Compose([\n",
    "    A.ISONoise(intensity=(1.5, 1.5), p=1.0)\n",
    "])"
   ]
  },
  {
   "cell_type": "code",
   "execution_count": 10,
   "metadata": {},
   "outputs": [],
   "source": [
    "transform = A.Compose([\n",
    "    A.HorizontalFlip(p=1)\n",
    "])\n",
    "\n",
    "for img in train_img_list:\n",
    "    image = cv2.imread(f\"./data/train/{img}\")\n",
    "    transformed_1 = transform_1(image=image)\n",
    "    transformed_2 = transform_2(image=image)\n",
    "    transformed_3 = transform_3(image=image)\n",
    "\n",
    "    transformed_image_1 = transformed_1[\"image\"]\n",
    "    transformed_image_2 = transformed_2[\"image\"]\n",
    "    transformed_image_3 = transformed_3[\"image\"]\n",
    "    \n",
    "    cv2.imwrite(f\"./data/train/Blur_{img}\", transformed_image_1)\n",
    "    cv2.imwrite(f\"./data/train/GaussNoise_{img}\", transformed_image_2)\n",
    "    cv2.imwrite(f\"./data/train/ISONoise_{img}\", transformed_image_3)\n",
    "\n",
    "    target_value = train.loc[train['ID'] == img, 'target'].iloc[0]\n",
    "    new_row1 = {'ID': f'Blur_{img}', 'target': target_value}\n",
    "    new_row2 = {'ID': f'GaussNoise_{img}', 'target': target_value}\n",
    "    new_row3 = {'ID': f'ISONoise_{img}', 'target': target_value}\n",
    "\n",
    "    train = train.append(new_row1, ignore_index=True)\n",
    "    train = train.append(new_row2, ignore_index=True)\n",
    "    train = train.append(new_row3, ignore_index=True)"
   ]
  },
  {
   "cell_type": "code",
   "execution_count": 11,
   "metadata": {},
   "outputs": [
    {
     "data": {
      "text/plain": [
       "12560"
      ]
     },
     "execution_count": 11,
     "metadata": {},
     "output_type": "execute_result"
    }
   ],
   "source": [
    "len(train['ID'].unique())"
   ]
  },
  {
   "cell_type": "markdown",
   "metadata": {},
   "source": [
    "## 모든 훈련데이터 45, 90, 135, 180, 225, 270, 315도 돌리기"
   ]
  },
  {
   "cell_type": "code",
   "execution_count": 13,
   "metadata": {},
   "outputs": [],
   "source": [
    "train_img_list = train['ID'].to_list()"
   ]
  },
  {
   "cell_type": "code",
   "execution_count": 14,
   "metadata": {},
   "outputs": [
    {
     "data": {
      "text/plain": [
       "12560"
      ]
     },
     "execution_count": 14,
     "metadata": {},
     "output_type": "execute_result"
    }
   ],
   "source": [
    "len(train_img_list)"
   ]
  },
  {
   "cell_type": "code",
   "execution_count": 15,
   "metadata": {},
   "outputs": [],
   "source": [
    "angles = [45, 90, 135, 180, 225, 270, 315]\n",
    "\n",
    "\n",
    "for img in train_img_list:\n",
    "    for angle in angles:\n",
    "        transform = A.Compose([A.Rotate(limit=[-angle,-angle], border_mode=cv2.BORDER_CONSTANT, value=[255, 255, 255], p=1)])\n",
    "        image = cv2.imread(f\"./data/train/{img}\")\n",
    "        transformed = transform(image=image)\n",
    "        transformed_image = transformed[\"image\"]\n",
    "        cv2.imwrite(f\"./data/train/{angle}rotated_{img}\", transformed_image_1)\n",
    "        target_value = train.loc[train['ID'] == img, 'target'].iloc[0]\n",
    "        new_row = {'ID': f'{angle}rotated_{img}', 'target': target_value}\n",
    "        train = train.append(new_row, ignore_index=True)\n",
    "            "
   ]
  },
  {
   "cell_type": "code",
   "execution_count": 16,
   "metadata": {},
   "outputs": [
    {
     "data": {
      "text/plain": [
       "(100480, 2)"
      ]
     },
     "execution_count": 16,
     "metadata": {},
     "output_type": "execute_result"
    }
   ],
   "source": [
    "train.shape"
   ]
  },
  {
   "cell_type": "code",
   "execution_count": 17,
   "metadata": {},
   "outputs": [
    {
     "data": {
      "text/html": [
       "<div>\n",
       "<style scoped>\n",
       "    .dataframe tbody tr th:only-of-type {\n",
       "        vertical-align: middle;\n",
       "    }\n",
       "\n",
       "    .dataframe tbody tr th {\n",
       "        vertical-align: top;\n",
       "    }\n",
       "\n",
       "    .dataframe thead th {\n",
       "        text-align: right;\n",
       "    }\n",
       "</style>\n",
       "<table border=\"1\" class=\"dataframe\">\n",
       "  <thead>\n",
       "    <tr style=\"text-align: right;\">\n",
       "      <th></th>\n",
       "      <th>ID</th>\n",
       "      <th>target</th>\n",
       "    </tr>\n",
       "  </thead>\n",
       "  <tbody>\n",
       "    <tr>\n",
       "      <th>0</th>\n",
       "      <td>002f99746285dfdd.jpg</td>\n",
       "      <td>16</td>\n",
       "    </tr>\n",
       "    <tr>\n",
       "      <th>1</th>\n",
       "      <td>008ccd231e1fea5d.jpg</td>\n",
       "      <td>10</td>\n",
       "    </tr>\n",
       "    <tr>\n",
       "      <th>2</th>\n",
       "      <td>008f5911bfda7695.jpg</td>\n",
       "      <td>10</td>\n",
       "    </tr>\n",
       "    <tr>\n",
       "      <th>3</th>\n",
       "      <td>009235e4c9c07af5.jpg</td>\n",
       "      <td>4</td>\n",
       "    </tr>\n",
       "    <tr>\n",
       "      <th>4</th>\n",
       "      <td>00b2f44967580c74.jpg</td>\n",
       "      <td>16</td>\n",
       "    </tr>\n",
       "    <tr>\n",
       "      <th>...</th>\n",
       "      <td>...</td>\n",
       "      <td>...</td>\n",
       "    </tr>\n",
       "    <tr>\n",
       "      <th>100475</th>\n",
       "      <td>135rotated_ISONoise_flipped_ffc22136f958deb1.jpg</td>\n",
       "      <td>9</td>\n",
       "    </tr>\n",
       "    <tr>\n",
       "      <th>100476</th>\n",
       "      <td>180rotated_ISONoise_flipped_ffc22136f958deb1.jpg</td>\n",
       "      <td>9</td>\n",
       "    </tr>\n",
       "    <tr>\n",
       "      <th>100477</th>\n",
       "      <td>225rotated_ISONoise_flipped_ffc22136f958deb1.jpg</td>\n",
       "      <td>9</td>\n",
       "    </tr>\n",
       "    <tr>\n",
       "      <th>100478</th>\n",
       "      <td>270rotated_ISONoise_flipped_ffc22136f958deb1.jpg</td>\n",
       "      <td>9</td>\n",
       "    </tr>\n",
       "    <tr>\n",
       "      <th>100479</th>\n",
       "      <td>315rotated_ISONoise_flipped_ffc22136f958deb1.jpg</td>\n",
       "      <td>9</td>\n",
       "    </tr>\n",
       "  </tbody>\n",
       "</table>\n",
       "<p>100480 rows × 2 columns</p>\n",
       "</div>"
      ],
      "text/plain": [
       "                                                      ID  target\n",
       "0                                   002f99746285dfdd.jpg      16\n",
       "1                                   008ccd231e1fea5d.jpg      10\n",
       "2                                   008f5911bfda7695.jpg      10\n",
       "3                                   009235e4c9c07af5.jpg       4\n",
       "4                                   00b2f44967580c74.jpg      16\n",
       "...                                                  ...     ...\n",
       "100475  135rotated_ISONoise_flipped_ffc22136f958deb1.jpg       9\n",
       "100476  180rotated_ISONoise_flipped_ffc22136f958deb1.jpg       9\n",
       "100477  225rotated_ISONoise_flipped_ffc22136f958deb1.jpg       9\n",
       "100478  270rotated_ISONoise_flipped_ffc22136f958deb1.jpg       9\n",
       "100479  315rotated_ISONoise_flipped_ffc22136f958deb1.jpg       9\n",
       "\n",
       "[100480 rows x 2 columns]"
      ]
     },
     "execution_count": 17,
     "metadata": {},
     "output_type": "execute_result"
    }
   ],
   "source": [
    "train"
   ]
  },
  {
   "cell_type": "code",
   "execution_count": 18,
   "metadata": {},
   "outputs": [],
   "source": [
    "train.to_csv('train_new.csv', index=False)"
   ]
  },
  {
   "cell_type": "code",
   "execution_count": null,
   "metadata": {},
   "outputs": [],
   "source": []
  }
 ],
 "metadata": {
  "kernelspec": {
   "display_name": "base",
   "language": "python",
   "name": "python3"
  },
  "language_info": {
   "codemirror_mode": {
    "name": "ipython",
    "version": 3
   },
   "file_extension": ".py",
   "mimetype": "text/x-python",
   "name": "python",
   "nbconvert_exporter": "python",
   "pygments_lexer": "ipython3",
   "version": "3.10.13"
  }
 },
 "nbformat": 4,
 "nbformat_minor": 2
}
