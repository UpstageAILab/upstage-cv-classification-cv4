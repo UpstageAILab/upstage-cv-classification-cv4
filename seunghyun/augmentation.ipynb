{
 "cells": [
  {
   "cell_type": "code",
   "execution_count": 2,
   "metadata": {},
   "outputs": [],
   "source": [
    "import pandas as pd \n",
    "import numpy as np \n",
    "import matplotlib.pyplot as plt \n",
    "import os \n",
    "from glob import glob \n",
    "from PIL import Image, ImageOps\n",
    "import albumentations as A\n",
    "import cv2\n",
    "from tqdm import tqdm\n",
    "import random"
   ]
  },
  {
   "cell_type": "code",
   "execution_count": 3,
   "metadata": {},
   "outputs": [],
   "source": [
    "# 시드 고정\n",
    "random_seed = 42\n",
    "random.seed(random_seed)  # Python의 내장 random 모듈의 시드 고정\n",
    "np.random.seed(random_seed)  # NumPy의 시드 고정\n",
    "os.environ['PYTHONHASHSEED'] = str(random_seed)  # 환경 변수를 통한 Python 해시 시드 고정"
   ]
  },
  {
   "cell_type": "code",
   "execution_count": 4,
   "metadata": {},
   "outputs": [],
   "source": [
    "# 데이터셋 로드\n",
    "df = pd.read_csv('./data/train.csv')"
   ]
  },
  {
   "cell_type": "code",
   "execution_count": 5,
   "metadata": {},
   "outputs": [],
   "source": [
    "# 증강 파이프라인 정의\n",
    "transforms = A.Compose([\n",
    "    A.OneOf([\n",
    "        A.HorizontalFlip(),  # 이미지를 수평으로 뒤집습니다.\n",
    "        A.VerticalFlip(),  # 이미지를 수직으로 뒤집습니다.\n",
    "    ], p=1),  # 'OneOf'는 괄호 안의 변환 중 하나(수평 뒤집기와 수직 뒤집기 중 하나)를 무작위로 선택하여 적용합니다.\n",
    "    A.RandomBrightnessContrast(brightness_limit=(-0.3, 0.3), contrast_limit=(-0.3, 0.3), p=0.5),  # 이미지의 밝기와 대비를 무작위로 조절합니다. 'brightness_limit'와 'contrast_limit'는 변형의 강도를 결정합니다.\n",
    "    A.HueSaturationValue(p=0.5),  # 이미지의 색조(Hue), 채도(Saturation), 밝기(Value)를 무작위로 변경합니다. 이를 통해 색상 변형을 추가합니다.\n",
    "    A.Transpose(p=0.5),  # 이미지를 전치합니다. 즉, 이미지의 가로와 세로를 바꾸는 변환을 적용합니다.\n",
    "    A.Rotate(limit=90, border_mode=cv2.BORDER_REPLICATE),  # 이미지를 최대 90도까지 무작위로 회전합니다. 'border_mode'는 회전 시 테두리를 어떻게 처리할지 결정합니다.\n",
    "    A.CoarseDropout(p=0.5, max_holes=30, max_height=8, max_width=8, min_holes=8, min_height=8, min_width=8),  # 이미지에 무작위로 구멍(드롭아웃)을 생성합니다. 구멍의 수와 크기는 지정된 범위 내에서 무작위로 결정됩니다.\n",
    "    A.ElasticTransform(p=0.5, alpha=1.0, sigma=50.0, alpha_affine=50.0, interpolation=0, border_mode=1, value=(0, 0, 0), mask_value=None, approximate=False),  # 탄성 변형을 적용하여 이미지에 왜곡을 추가합니다. 이 변형은 이미지를 유연하게 휘게 만듭니다.\n",
    "    A.SomeOf([\n",
    "        A.Blur(blur_limit=3),  # 이미지를 흐리게 만듭니다. 'blur_limit'는 흐림 효과의 강도를 결정합니다.\n",
    "        A.MotionBlur(blur_limit=3),  # 이미지에 움직임 흐림(motion blur) 효과를 추가합니다.\n",
    "        A.Downscale(scale_min=0.699999988079071, scale_max=0.9900000095367432, interpolation=3),  # 이미지의 해상도를 낮춥니다.\n",
    "        A.GaussNoise(var_limit=(0, 700), per_channel=True),  # 이미지에 가우시안 노이즈를 추가합니다.\n",
    "    ], n=2, p=0.85),  # 'SomeOf'는 괄호 안의 변환 중 지정된 수(n=2)만큼을 무작위로 선택하여 적용합니다.\n",
    "    A.GridDistortion(p=0.5, num_steps=5, distort_limit=(-0.029999999329447746, 0.05000000074505806), interpolation=2, border_mode=0, value=(0, 0, 0), mask_value=None, normalized=True)  # 이미지에 그리드 왜곡 효과를 적용합니다. 이 변형은 이미지를 그리드로 나누고 각 그리드 포인트를 무작위로 이동시켜 이미지에 왜곡을 추가합니다. num_steps는 그리드의 크기를 결정하며, distort_limit는 왜곡의 강도를 조절합니다.\n",
    "])"
   ]
  },
  {
   "cell_type": "code",
   "execution_count": 6,
   "metadata": {},
   "outputs": [
    {
     "name": "stderr",
     "output_type": "stream",
     "text": [
      "Image augmentation: 0it [00:00, ?it/s]"
     ]
    },
    {
     "name": "stderr",
     "output_type": "stream",
     "text": [
      "Image augmentation: 1570it [55:30,  2.12s/it]\n"
     ]
    }
   ],
   "source": [
    "data_path = './data/'\n",
    "train_path = os.path.join(data_path, \"train\")  # train 이미지가 저장된 경로\n",
    "\n",
    "# 'augmented/' 폴더가 없으면 생성\n",
    "augmented_folder_path = os.path.join(data_path, \"augmented\")\n",
    "os.makedirs(augmented_folder_path, exist_ok=True)\n",
    "\n",
    "# 'augmented/A' 폴더가 없으면 생성\n",
    "albumentations_path = os.path.join(augmented_folder_path, \"A\")\n",
    "os.makedirs(albumentations_path, exist_ok=True)\n",
    "\n",
    "ids = []\n",
    "targets = []\n",
    "\n",
    "for index, ID, target in tqdm(df.itertuples(), desc='Image augmentation', mininterval=0.1):\n",
    "    image_path = os.path.join(train_path, ID)  # 수정된 경로\n",
    "    image = np.array(Image.open(image_path))\n",
    "    if target == 13:\n",
    "        n = 25\n",
    "    elif target == 14:\n",
    "        n = 35\n",
    "    elif target == 1:\n",
    "        n = 45\n",
    "    else:\n",
    "        n = 20\n",
    "    for i in range(n):\n",
    "        transformed_image = transforms(image=image)['image']\n",
    "        image_ID = f'tf{i}_' + ID \n",
    "        ids.append(image_ID)\n",
    "        targets.append(target)\n",
    "        # 증강된 이미지를 'augmented/A' 폴더에 저장\n",
    "        augmented_image_path = os.path.join(albumentations_path, image_ID)\n",
    "        Image.fromarray(transformed_image).save(augmented_image_path)\n",
    "\n",
    "# 증강된 이미지 데이터를 DataFrame에 추가하고 결과 저장\n",
    "aug_data = {'ID': ids, 'target': targets}\n",
    "aug_df = pd.DataFrame(aug_data)    "
   ]
  },
  {
   "cell_type": "code",
   "execution_count": 7,
   "metadata": {},
   "outputs": [
    {
     "name": "stdout",
     "output_type": "stream",
     "text": [
      "원본 데이터셋 크기: 1570\n",
      "증강된 데이터셋 크기: 33670\n",
      "전체 데이터셋 크기: 35240\n"
     ]
    }
   ],
   "source": [
    "# 원본 데이터셋의 크기\n",
    "original_size = len(df)\n",
    "# 증강된 데이터셋의 크기\n",
    "augmented_size = len(aug_df)\n",
    "# 전체 데이터셋의 크기\n",
    "total_size = len(df) + len(aug_df)\n",
    "\n",
    "print(f\"원본 데이터셋 크기: {original_size}\")\n",
    "print(f\"증강된 데이터셋 크기: {augmented_size}\")\n",
    "print(f\"전체 데이터셋 크기: {total_size}\")"
   ]
  },
  {
   "cell_type": "code",
   "execution_count": 8,
   "metadata": {},
   "outputs": [
    {
     "name": "stdout",
     "output_type": "stream",
     "text": [
      "'A' 폴더 내의 파일 수: 33670\n"
     ]
    }
   ],
   "source": [
    "# 'augmented/albumentations' 폴더 내의 파일 수 확인\n",
    "augmented_files = os.listdir(albumentations_path)\n",
    "print(f\"'A' 폴더 내의 파일 수: {len(augmented_files)}\")"
   ]
  },
  {
   "cell_type": "code",
   "execution_count": 9,
   "metadata": {},
   "outputs": [],
   "source": [
    "aug_df.to_csv('./data/A_train.csv', index=False)"
   ]
  },
  {
   "cell_type": "code",
   "execution_count": 10,
   "metadata": {},
   "outputs": [],
   "source": [
    "# import shutil\n",
    "# import os\n",
    "\n",
    "# # 증강된 이미지가 저장된 폴더 삭제\n",
    "# albumentations_path = './data/augmented/A'\n",
    "# if os.path.exists(albumentations_path):\n",
    "#     shutil.rmtree(albumentations_path)\n",
    "#     print(f\"'{albumentations_path}' 폴더와 그 안의 모든 이미지가 삭제되었습니다.\")\n",
    "\n",
    "# # 생성된 CSV 파일 삭제\n",
    "# csv_file_path = './data/A_train.csv'\n",
    "# if os.path.exists(csv_file_path):\n",
    "#     os.remove(csv_file_path)\n",
    "#     print(f\"'{csv_file_path}' 파일이 삭제되었습니다.\")\n"
   ]
  },
  {
   "cell_type": "code",
   "execution_count": null,
   "metadata": {},
   "outputs": [],
   "source": []
  }
 ],
 "metadata": {
  "kernelspec": {
   "display_name": "aistages1",
   "language": "python",
   "name": "aistages1"
  },
  "language_info": {
   "codemirror_mode": {
    "name": "ipython",
    "version": 3
   },
   "file_extension": ".py",
   "mimetype": "text/x-python",
   "name": "python",
   "nbconvert_exporter": "python",
   "pygments_lexer": "ipython3",
   "version": "3.10.13"
  }
 },
 "nbformat": 4,
 "nbformat_minor": 2
}
