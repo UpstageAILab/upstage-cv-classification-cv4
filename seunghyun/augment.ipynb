{
 "cells": [
  {
   "cell_type": "code",
   "execution_count": 2,
   "metadata": {},
   "outputs": [],
   "source": [
    "import pandas as pd \n",
    "import numpy as np \n",
    "import matplotlib.pyplot as plt \n",
    "\n",
    "import os \n",
    "from glob import glob \n",
    "\n",
    "from PIL import Image, ImageOps\n",
    "import albumentations as A\n",
    "import cv2\n",
    "\n",
    "from tqdm import tqdm \n",
    "\n",
    "from pathlib import Path"
   ]
  },
  {
   "cell_type": "code",
   "execution_count": 7,
   "metadata": {},
   "outputs": [
    {
     "data": {
      "text/html": [
       "<div>\n",
       "<style scoped>\n",
       "    .dataframe tbody tr th:only-of-type {\n",
       "        vertical-align: middle;\n",
       "    }\n",
       "\n",
       "    .dataframe tbody tr th {\n",
       "        vertical-align: top;\n",
       "    }\n",
       "\n",
       "    .dataframe thead th {\n",
       "        text-align: right;\n",
       "    }\n",
       "</style>\n",
       "<table border=\"1\" class=\"dataframe\">\n",
       "  <thead>\n",
       "    <tr style=\"text-align: right;\">\n",
       "      <th></th>\n",
       "      <th>ID</th>\n",
       "      <th>target</th>\n",
       "    </tr>\n",
       "  </thead>\n",
       "  <tbody>\n",
       "    <tr>\n",
       "      <th>0</th>\n",
       "      <td>002f99746285dfdd.jpg</td>\n",
       "      <td>16</td>\n",
       "    </tr>\n",
       "    <tr>\n",
       "      <th>1</th>\n",
       "      <td>008ccd231e1fea5d.jpg</td>\n",
       "      <td>10</td>\n",
       "    </tr>\n",
       "    <tr>\n",
       "      <th>2</th>\n",
       "      <td>008f5911bfda7695.jpg</td>\n",
       "      <td>10</td>\n",
       "    </tr>\n",
       "    <tr>\n",
       "      <th>3</th>\n",
       "      <td>009235e4c9c07af5.jpg</td>\n",
       "      <td>4</td>\n",
       "    </tr>\n",
       "    <tr>\n",
       "      <th>4</th>\n",
       "      <td>00b2f44967580c74.jpg</td>\n",
       "      <td>16</td>\n",
       "    </tr>\n",
       "    <tr>\n",
       "      <th>...</th>\n",
       "      <td>...</td>\n",
       "      <td>...</td>\n",
       "    </tr>\n",
       "    <tr>\n",
       "      <th>1565</th>\n",
       "      <td>fed9e9ec4a77bc06.jpg</td>\n",
       "      <td>4</td>\n",
       "    </tr>\n",
       "    <tr>\n",
       "      <th>1566</th>\n",
       "      <td>feeade617aa68c45.jpg</td>\n",
       "      <td>7</td>\n",
       "    </tr>\n",
       "    <tr>\n",
       "      <th>1567</th>\n",
       "      <td>ff51dd281a8423f1.jpg</td>\n",
       "      <td>11</td>\n",
       "    </tr>\n",
       "    <tr>\n",
       "      <th>1568</th>\n",
       "      <td>ff8a6a251ce51c95.jpg</td>\n",
       "      <td>5</td>\n",
       "    </tr>\n",
       "    <tr>\n",
       "      <th>1569</th>\n",
       "      <td>ffc22136f958deb1.jpg</td>\n",
       "      <td>9</td>\n",
       "    </tr>\n",
       "  </tbody>\n",
       "</table>\n",
       "<p>1570 rows × 2 columns</p>\n",
       "</div>"
      ],
      "text/plain": [
       "                        ID  target\n",
       "0     002f99746285dfdd.jpg      16\n",
       "1     008ccd231e1fea5d.jpg      10\n",
       "2     008f5911bfda7695.jpg      10\n",
       "3     009235e4c9c07af5.jpg       4\n",
       "4     00b2f44967580c74.jpg      16\n",
       "...                    ...     ...\n",
       "1565  fed9e9ec4a77bc06.jpg       4\n",
       "1566  feeade617aa68c45.jpg       7\n",
       "1567  ff51dd281a8423f1.jpg      11\n",
       "1568  ff8a6a251ce51c95.jpg       5\n",
       "1569  ffc22136f958deb1.jpg       9\n",
       "\n",
       "[1570 rows x 2 columns]"
      ]
     },
     "metadata": {},
     "output_type": "display_data"
    }
   ],
   "source": [
    "df = pd.read_csv('./data/train.csv')\n",
    "display(df)"
   ]
  },
  {
   "cell_type": "code",
   "execution_count": 86,
   "metadata": {},
   "outputs": [
    {
     "name": "stderr",
     "output_type": "stream",
     "text": [
      "Image rotation: 100%|██████████| 1570/1570 [00:38<00:00, 40.59it/s]\n"
     ]
    }
   ],
   "source": [
    "data_path = './data/'\n",
    "train_path = os.path.join(data_path, \"train\")  # 원본 이미지 폴더\n",
    "\n",
    "# 'augmented/' 폴더가 없으면 생성\n",
    "augmented_folder_path = os.path.join(data_path, \"augmented\")\n",
    "os.makedirs(augmented_folder_path, exist_ok=True)\n",
    "\n",
    "# 'augmented/rotate' 폴더가 없으면 생성\n",
    "rotate_path = os.path.join(augmented_folder_path, \"rotate\")\n",
    "os.makedirs(rotate_path, exist_ok=True)\n",
    "\n",
    "ids = []\n",
    "targets = []\n",
    "\n",
    "for index, row in tqdm(df.iterrows(), desc='Image rotation', total=df.shape[0]):\n",
    "    ID = row['ID']  # 이미지 파일명 or ID\n",
    "    target = row['target']  # 대상 클래스 or 레이블\n",
    "    image_path = os.path.join(train_path, ID)  # 원본 이미지 경로\n",
    "\n",
    "    # 90도 회전\n",
    "    id_90 = 'r90_' + ID\n",
    "    ids.append(id_90)\n",
    "    targets.append(target)\n",
    "    rotate90_image = np.array(ImageOps.exif_transpose(Image.open(image_path).rotate(90, expand=True)))\n",
    "    Image.fromarray(rotate90_image).save(os.path.join(rotate_path, id_90))\n",
    "    \n",
    "    # 180도 회전\n",
    "    id_180 = 'r180_' + ID\n",
    "    ids.append(id_180)\n",
    "    targets.append(target)\n",
    "    rotate180_image = np.array(ImageOps.exif_transpose(Image.open(image_path).rotate(180, expand=True)))\n",
    "    Image.fromarray(rotate180_image).save(os.path.join(rotate_path, id_180))\n",
    "\n",
    "    # 270도 회전\n",
    "    id_270 = 'r270_' + ID\n",
    "    ids.append(id_270)\n",
    "    targets.append(target)\n",
    "    rotate270_image = np.array(ImageOps.exif_transpose(Image.open(image_path).rotate(270, expand=True)))\n",
    "    Image.fromarray(rotate270_image).save(os.path.join(rotate_path, id_270))\n",
    "\n",
    "# 증강된 이미지 데이터를 DataFrame에 추가하고 결과 저장\n",
    "rotate_data = {'ID': ids, 'target': targets}\n",
    "rotate_df = pd.DataFrame(rotate_data)"
   ]
  },
  {
   "cell_type": "code",
   "execution_count": 87,
   "metadata": {},
   "outputs": [
    {
     "name": "stdout",
     "output_type": "stream",
     "text": [
      "원본 데이터셋 크기: 1570\n",
      "rotate 증강된 데이터셋 크기: 4710\n",
      "전체 데이터셋 크기: 6280\n"
     ]
    }
   ],
   "source": [
    "# 원본 데이터셋의 크기\n",
    "original_size = len(df)\n",
    "# 증강된 데이터셋의 크기\n",
    "rotate_size = len(rotate_df)\n",
    "# 전체 데이터셋의 크기\n",
    "total_size = len(df) + len(rotate_df)\n",
    "\n",
    "print(f\"원본 데이터셋 크기: {original_size}\")\n",
    "print(f\"rotate 증강된 데이터셋 크기: {rotate_size}\")\n",
    "print(f\"전체 데이터셋 크기: {total_size}\")"
   ]
  },
  {
   "cell_type": "code",
   "execution_count": 88,
   "metadata": {},
   "outputs": [
    {
     "name": "stdout",
     "output_type": "stream",
     "text": [
      "'rotate' 폴더 내의 파일 수: 4710\n"
     ]
    }
   ],
   "source": [
    "rotate_files = os.listdir(rotate_path)\n",
    "print(f\"'rotate' 폴더 내의 파일 수: {len(rotate_files)}\")"
   ]
  },
  {
   "cell_type": "code",
   "execution_count": 89,
   "metadata": {},
   "outputs": [],
   "source": [
    "rotate_df.to_csv('./data/rotate_train.csv', index=False)"
   ]
  },
  {
   "cell_type": "code",
   "execution_count": 8,
   "metadata": {},
   "outputs": [
    {
     "data": {
      "text/html": [
       "<div>\n",
       "<style scoped>\n",
       "    .dataframe tbody tr th:only-of-type {\n",
       "        vertical-align: middle;\n",
       "    }\n",
       "\n",
       "    .dataframe tbody tr th {\n",
       "        vertical-align: top;\n",
       "    }\n",
       "\n",
       "    .dataframe thead th {\n",
       "        text-align: right;\n",
       "    }\n",
       "</style>\n",
       "<table border=\"1\" class=\"dataframe\">\n",
       "  <thead>\n",
       "    <tr style=\"text-align: right;\">\n",
       "      <th></th>\n",
       "      <th>ID</th>\n",
       "      <th>target</th>\n",
       "    </tr>\n",
       "  </thead>\n",
       "  <tbody>\n",
       "    <tr>\n",
       "      <th>0</th>\n",
       "      <td>r90_002f99746285dfdd.jpg</td>\n",
       "      <td>16</td>\n",
       "    </tr>\n",
       "    <tr>\n",
       "      <th>1</th>\n",
       "      <td>r180_002f99746285dfdd.jpg</td>\n",
       "      <td>16</td>\n",
       "    </tr>\n",
       "    <tr>\n",
       "      <th>2</th>\n",
       "      <td>r270_002f99746285dfdd.jpg</td>\n",
       "      <td>16</td>\n",
       "    </tr>\n",
       "    <tr>\n",
       "      <th>3</th>\n",
       "      <td>r90_008ccd231e1fea5d.jpg</td>\n",
       "      <td>10</td>\n",
       "    </tr>\n",
       "    <tr>\n",
       "      <th>4</th>\n",
       "      <td>r180_008ccd231e1fea5d.jpg</td>\n",
       "      <td>10</td>\n",
       "    </tr>\n",
       "    <tr>\n",
       "      <th>...</th>\n",
       "      <td>...</td>\n",
       "      <td>...</td>\n",
       "    </tr>\n",
       "    <tr>\n",
       "      <th>4705</th>\n",
       "      <td>r180_ff8a6a251ce51c95.jpg</td>\n",
       "      <td>5</td>\n",
       "    </tr>\n",
       "    <tr>\n",
       "      <th>4706</th>\n",
       "      <td>r270_ff8a6a251ce51c95.jpg</td>\n",
       "      <td>5</td>\n",
       "    </tr>\n",
       "    <tr>\n",
       "      <th>4707</th>\n",
       "      <td>r90_ffc22136f958deb1.jpg</td>\n",
       "      <td>9</td>\n",
       "    </tr>\n",
       "    <tr>\n",
       "      <th>4708</th>\n",
       "      <td>r180_ffc22136f958deb1.jpg</td>\n",
       "      <td>9</td>\n",
       "    </tr>\n",
       "    <tr>\n",
       "      <th>4709</th>\n",
       "      <td>r270_ffc22136f958deb1.jpg</td>\n",
       "      <td>9</td>\n",
       "    </tr>\n",
       "  </tbody>\n",
       "</table>\n",
       "<p>4710 rows × 2 columns</p>\n",
       "</div>"
      ],
      "text/plain": [
       "                             ID  target\n",
       "0      r90_002f99746285dfdd.jpg      16\n",
       "1     r180_002f99746285dfdd.jpg      16\n",
       "2     r270_002f99746285dfdd.jpg      16\n",
       "3      r90_008ccd231e1fea5d.jpg      10\n",
       "4     r180_008ccd231e1fea5d.jpg      10\n",
       "...                         ...     ...\n",
       "4705  r180_ff8a6a251ce51c95.jpg       5\n",
       "4706  r270_ff8a6a251ce51c95.jpg       5\n",
       "4707   r90_ffc22136f958deb1.jpg       9\n",
       "4708  r180_ffc22136f958deb1.jpg       9\n",
       "4709  r270_ffc22136f958deb1.jpg       9\n",
       "\n",
       "[4710 rows x 2 columns]"
      ]
     },
     "metadata": {},
     "output_type": "display_data"
    }
   ],
   "source": [
    "rotate_df = pd.read_csv('./data/rotate_train.csv')\n",
    "display(rotate_df)"
   ]
  },
  {
   "cell_type": "code",
   "execution_count": 92,
   "metadata": {},
   "outputs": [
    {
     "name": "stderr",
     "output_type": "stream",
     "text": [
      "Processing images: 100%|██████████| 4710/4710 [00:33<00:00, 139.75it/s]\n"
     ]
    }
   ],
   "source": [
    "# 앞서 정의한 변환들\n",
    "H_flip = A.Compose([A.HorizontalFlip(always_apply=True)])\n",
    "V_flip = A.Compose([A.VerticalFlip(always_apply=True)])\n",
    "\n",
    "data_path = './data/'\n",
    "\n",
    "# 'augmented/' 폴더가 없으면 생성\n",
    "augmented_folder_path = os.path.join(data_path, \"augmented\")\n",
    "os.makedirs(augmented_folder_path, exist_ok=True)\n",
    "\n",
    "# 'augmented/rotateflip' 폴더가 없으면 생성\n",
    "rotateflip_path = os.path.join(augmented_folder_path, \"rotateflip\")\n",
    "os.makedirs(rotateflip_path, exist_ok=True)\n",
    "\n",
    "# 'augmented/rotate' 폴더가 없으면 생성\n",
    "rotate_path = os.path.join(augmented_folder_path, \"rotate\")\n",
    "os.makedirs(rotate_path, exist_ok=True)\n",
    "\n",
    "# 새로운 데이터프레임을 위한 리스트\n",
    "new_filenames = []  # 수정된 부분: 변수 이름을 new_filename에서 new_filenames로 변경\n",
    "new_targets = []\n",
    "\n",
    "# rotate_df에 있는 모든 항목에 대해 반복 (rotate_df는 미리 정의되어 있어야 합니다)\n",
    "for _, row in tqdm(rotate_df.iterrows(), desc='Processing images', total=rotate_df.shape[0]):\n",
    "    original_id = row['ID']\n",
    "    target = row['target']\n",
    "    \n",
    "    # 원본 이미지 파일 경로\n",
    "    image_path = os.path.join(rotate_path, original_id)  # 파일 확장자가 이미 ID에 포함되어 있다고 가정\n",
    "    \n",
    "    if os.path.exists(image_path):\n",
    "        image = np.array(Image.open(image_path))\n",
    "\n",
    "        # 파일명에 따라 수행할 변환 결정 및 적용\n",
    "        if original_id.startswith('r90_') or original_id.startswith('r270_'):\n",
    "            flipped_image = V_flip(image=image)['image']\n",
    "            new_id = 'Vflip_' + original_id  # new_id 변수 이름 변경\n",
    "        else:\n",
    "            flipped_image = H_flip(image=image)['image']\n",
    "            new_id = 'Hflip_' + original_id  # new_id 변수 이름 변경\n",
    "\n",
    "        # 새 파일명으로 이미지 저장\n",
    "        Image.fromarray(flipped_image).save(os.path.join(rotateflip_path, new_id))\n",
    "\n",
    "        # 리스트에 정보 추가\n",
    "        new_filenames.append(new_id)  # 수정된 부분: 올바른 리스트 변수 사용\n",
    "        new_targets.append(target)\n",
    "\n",
    "# 새로운 데이터프레임 생성 및 저장\n",
    "rotateflip_df = pd.DataFrame({\n",
    "    'ID': new_filenames,\n",
    "    'target': new_targets\n",
    "})\n"
   ]
  },
  {
   "cell_type": "code",
   "execution_count": 93,
   "metadata": {},
   "outputs": [
    {
     "name": "stdout",
     "output_type": "stream",
     "text": [
      "원본 데이터셋 크기: 1570\n",
      "rotate 증강된 데이터셋 크기: 4710\n",
      "rotateflip 증강된 데이터셋 크기: 4710\n",
      "전체 데이터셋 크기: 10990\n"
     ]
    }
   ],
   "source": [
    "# 원본 데이터셋의 크기\n",
    "original_size = len(df)\n",
    "# 증강된 데이터셋의 크기\n",
    "rotate_size = len(rotate_df)\n",
    "rotateflip_size = len(rotateflip_df)\n",
    "# 전체 데이터셋의 크기\n",
    "total_size = len(df) + len(rotate_df) + len(rotateflip_df)\n",
    "\n",
    "print(f\"원본 데이터셋 크기: {original_size}\")\n",
    "print(f\"rotate 증강된 데이터셋 크기: {rotate_size}\")\n",
    "print(f\"rotateflip 증강된 데이터셋 크기: {rotateflip_size}\")\n",
    "print(f\"전체 데이터셋 크기: {total_size}\")"
   ]
  },
  {
   "cell_type": "code",
   "execution_count": 94,
   "metadata": {},
   "outputs": [
    {
     "name": "stdout",
     "output_type": "stream",
     "text": [
      "'rotateflip' 폴더 내의 파일 수: 4710\n"
     ]
    }
   ],
   "source": [
    "rotateflip_path_files = os.listdir(rotateflip_path)\n",
    "print(f\"'rotateflip' 폴더 내의 파일 수: {len(rotateflip_path_files)}\")"
   ]
  },
  {
   "cell_type": "code",
   "execution_count": 95,
   "metadata": {},
   "outputs": [],
   "source": [
    "rotateflip_df.to_csv('./data/rotateflip_train.csv', index=False)"
   ]
  },
  {
   "cell_type": "code",
   "execution_count": 9,
   "metadata": {},
   "outputs": [
    {
     "data": {
      "text/html": [
       "<div>\n",
       "<style scoped>\n",
       "    .dataframe tbody tr th:only-of-type {\n",
       "        vertical-align: middle;\n",
       "    }\n",
       "\n",
       "    .dataframe tbody tr th {\n",
       "        vertical-align: top;\n",
       "    }\n",
       "\n",
       "    .dataframe thead th {\n",
       "        text-align: right;\n",
       "    }\n",
       "</style>\n",
       "<table border=\"1\" class=\"dataframe\">\n",
       "  <thead>\n",
       "    <tr style=\"text-align: right;\">\n",
       "      <th></th>\n",
       "      <th>ID</th>\n",
       "      <th>target</th>\n",
       "    </tr>\n",
       "  </thead>\n",
       "  <tbody>\n",
       "    <tr>\n",
       "      <th>0</th>\n",
       "      <td>Vflip_r90_002f99746285dfdd.jpg</td>\n",
       "      <td>16</td>\n",
       "    </tr>\n",
       "    <tr>\n",
       "      <th>1</th>\n",
       "      <td>Hflip_r180_002f99746285dfdd.jpg</td>\n",
       "      <td>16</td>\n",
       "    </tr>\n",
       "    <tr>\n",
       "      <th>2</th>\n",
       "      <td>Vflip_r270_002f99746285dfdd.jpg</td>\n",
       "      <td>16</td>\n",
       "    </tr>\n",
       "    <tr>\n",
       "      <th>3</th>\n",
       "      <td>Vflip_r90_008ccd231e1fea5d.jpg</td>\n",
       "      <td>10</td>\n",
       "    </tr>\n",
       "    <tr>\n",
       "      <th>4</th>\n",
       "      <td>Hflip_r180_008ccd231e1fea5d.jpg</td>\n",
       "      <td>10</td>\n",
       "    </tr>\n",
       "    <tr>\n",
       "      <th>...</th>\n",
       "      <td>...</td>\n",
       "      <td>...</td>\n",
       "    </tr>\n",
       "    <tr>\n",
       "      <th>4705</th>\n",
       "      <td>Hflip_r180_ff8a6a251ce51c95.jpg</td>\n",
       "      <td>5</td>\n",
       "    </tr>\n",
       "    <tr>\n",
       "      <th>4706</th>\n",
       "      <td>Vflip_r270_ff8a6a251ce51c95.jpg</td>\n",
       "      <td>5</td>\n",
       "    </tr>\n",
       "    <tr>\n",
       "      <th>4707</th>\n",
       "      <td>Vflip_r90_ffc22136f958deb1.jpg</td>\n",
       "      <td>9</td>\n",
       "    </tr>\n",
       "    <tr>\n",
       "      <th>4708</th>\n",
       "      <td>Hflip_r180_ffc22136f958deb1.jpg</td>\n",
       "      <td>9</td>\n",
       "    </tr>\n",
       "    <tr>\n",
       "      <th>4709</th>\n",
       "      <td>Vflip_r270_ffc22136f958deb1.jpg</td>\n",
       "      <td>9</td>\n",
       "    </tr>\n",
       "  </tbody>\n",
       "</table>\n",
       "<p>4710 rows × 2 columns</p>\n",
       "</div>"
      ],
      "text/plain": [
       "                                   ID  target\n",
       "0      Vflip_r90_002f99746285dfdd.jpg      16\n",
       "1     Hflip_r180_002f99746285dfdd.jpg      16\n",
       "2     Vflip_r270_002f99746285dfdd.jpg      16\n",
       "3      Vflip_r90_008ccd231e1fea5d.jpg      10\n",
       "4     Hflip_r180_008ccd231e1fea5d.jpg      10\n",
       "...                               ...     ...\n",
       "4705  Hflip_r180_ff8a6a251ce51c95.jpg       5\n",
       "4706  Vflip_r270_ff8a6a251ce51c95.jpg       5\n",
       "4707   Vflip_r90_ffc22136f958deb1.jpg       9\n",
       "4708  Hflip_r180_ffc22136f958deb1.jpg       9\n",
       "4709  Vflip_r270_ffc22136f958deb1.jpg       9\n",
       "\n",
       "[4710 rows x 2 columns]"
      ]
     },
     "metadata": {},
     "output_type": "display_data"
    }
   ],
   "source": [
    "rotateflip_df = pd.read_csv('./data/rotateflip_train.csv')\n",
    "display(rotateflip_df)"
   ]
  },
  {
   "cell_type": "code",
   "execution_count": 15,
   "metadata": {},
   "outputs": [],
   "source": [
    "transforms = A.Compose([\n",
    "    A.OneOf([\n",
    "        # 그리드 왜곡: 이미지에 그리드를 적용하고 그리드 포인트를 왜곡합니다. num_steps=5는 그리드의 세분성을 결정합니다.\n",
    "        A.GridDistortion(num_steps=5, distort_limit=0.3, interpolation=1, border_mode=4, value=None, mask_value=None, always_apply=True, p=1),\n",
    "        # 탄성 변형: 이미지에 탄성적 왜곡을 추가하여 자연스러운 변형을 시뮬레이션합니다.\n",
    "        A.ElasticTransform(always_apply=True, p=1, alpha=1.0, sigma=50.0, alpha_affine=50.0, interpolation=0, border_mode=1, value=(0, 0, 0), mask_value=None, approximate=False),\n",
    "        # 광학 왜곡: 이미지에 광학적 왜곡 효과를 추가합니다. distort_limit=(-0.3, -0.1)은 왜곡의 범위를 정합니다.\n",
    "        A.OpticalDistortion(always_apply=True, p=1, distort_limit=(-0.3, -0.1)),\n",
    "        # 광학 왜곡: distort_limit=(0.1, 0.3)으로 설정하여 왜곡의 정도와 방향을 변형합니다.\n",
    "        A.OpticalDistortion(always_apply=True, p=1, distort_limit=(0.1, 0.3)),\n",
    "    ], p=0.85),\n",
    "    A.SomeOf([\n",
    "        # 밝기 및 대비 조정: 이미지의 밝기와 대비를 무작위로 조절합니다.\n",
    "        A.RandomBrightnessContrast(brightness_limit=(-0.2, 0.2), contrast_limit=(-0.2, 0.2), p=1),\n",
    "        # 색조, 채도, 밝기 조정: 이미지의 색조(Hue), 채도(Saturation), 밝기(Value)를 무작위로 변형합니다.\n",
    "        A.HueSaturationValue(hue_shift_limit=15, sat_shift_limit=25, val_shift_limit=20, p=1),\n",
    "        # 곱셈 노이즈: 이미지에 곱셈 노이즈를 추가하여 픽셀 값에 변화를 줍니다.\n",
    "        A.MultiplicativeNoise(p=1, multiplier=(1, 1.5), per_channel=True),\n",
    "        # 히스토그램 평활화: 이미지의 대비를 향상시키기 위해 히스토그램 평활화를 적용합니다.\n",
    "        A.Equalize(p=1, mode='cv', by_channels=True),\n",
    "    ], n=2, p=0.85),\n",
    "    A.OneOf([\n",
    "        # 회전: 지정된 각도 범위 내에서 이미지를 회전합니다.\n",
    "        A.Rotate(limit=(10, 30), border_mode=cv2.BORDER_CONSTANT, p=1),\n",
    "        A.Rotate(limit=(150, 170), border_mode=cv2.BORDER_CONSTANT, p=1),\n",
    "        A.Rotate(limit=(190, 210), border_mode=cv2.BORDER_CONSTANT, p=1),\n",
    "        A.Rotate(limit=(330, 350), border_mode=cv2.BORDER_CONSTANT, p=1),\n",
    "    ], p=1),\n",
    "    # 드롭아웃: 이미지에서 무작위 영역을 제거하여 드롭아웃 효과를 만듭니다.\n",
    "    A.CoarseDropout(p=0.5, max_holes=40, max_height=15, max_width=15, min_holes=8, min_height=8, min_width=8),\n",
    "    # 히스토그램 평활화: 이미지의 대비를 개선합니다.\n",
    "    A.Equalize(p=0.5, mode='cv', by_channels=True),\n",
    "    A.OneOf([\n",
    "        # 블러: 이미지를 흐리게 합니다.\n",
    "        A.Blur(blur_limit=(3, 4), p=1),\n",
    "        # 모션 블러: 움직임이 있는 것처럼 이미지에 블러 효과를 추가합니다.\n",
    "        A.MotionBlur(blur_limit=(3, 5), p=1),\n",
    "        # 다운스케일: 이미지의 해상도를 낮춥니다. 이는 이미지의 품질을 인위적으로 감소시킵니다.\n",
    "        A.Downscale(scale_min=0.455, scale_max=0.5, interpolation=2, p=1),\n",
    "    ], p=0.5),\n",
    "    # 가우스 노이즈: 이미지에 가우시안 노이즈를 추가합니다. 이는 이미지에 무작위 노이즈를 삽입하여 모델이 노이즈에 강인하게 만듭니다.\n",
    "    A.GaussNoise(var_limit=(100, 800), per_channel=True, p=0.5),\n",
    "])\n"
   ]
  },
  {
   "cell_type": "code",
   "execution_count": 16,
   "metadata": {},
   "outputs": [
    {
     "name": "stderr",
     "output_type": "stream",
     "text": [
      "Processing ./data/train/:   0%|          | 0/1570 [00:00<?, ?it/s]"
     ]
    },
    {
     "name": "stderr",
     "output_type": "stream",
     "text": [
      "Processing ./data/train/: 100%|██████████| 1570/1570 [01:32<00:00, 16.90it/s]\n",
      "Processing ./data/augmented/rotate/: 100%|██████████| 4710/4710 [04:36<00:00, 17.03it/s]\n",
      "Processing ./data/augmented/rotateflip/: 100%|██████████| 4710/4710 [04:35<00:00, 17.08it/s]\n"
     ]
    }
   ],
   "source": [
    "# CSV 파일들을 하나의 데이터 프레임으로 결합\n",
    "combined_df = pd.concat([df, rotate_df, rotateflip_df], ignore_index=True)\n",
    "\n",
    "# 원본 및 회전/뒤집기된 이미지가 있는 경로\n",
    "data_paths = ['./data/train/', './data/augmented/rotate/', './data/augmented/rotateflip/']\n",
    "\n",
    "# 최종 증강된 이미지를 저장할 경로\n",
    "augmented_save_path = './data/augmented/A_rotateandflip/'\n",
    "os.makedirs(augmented_save_path, exist_ok=True)  # 폴더가 없으면 생성\n",
    "\n",
    "ids = []\n",
    "targets = []\n",
    "\n",
    "for data_path in data_paths:\n",
    "    image_files = [f for f in os.listdir(data_path) if os.path.isfile(os.path.join(data_path, f))]\n",
    "    for image_file in tqdm(image_files, desc=f'Processing {data_path}'):\n",
    "        # 데이터 프레임에서 해당 이미지 파일의 target 값을 찾음\n",
    "        target_row = combined_df[combined_df['ID'] == image_file]\n",
    "        if not target_row.empty:\n",
    "            target = target_row['target'].iloc[0]\n",
    "            # 이미지 증강 및 저장 과정\n",
    "            image_path = os.path.join(data_path, image_file)\n",
    "            image = np.array(Image.open(image_path))\n",
    "            transformed_image = transforms(image=image)['image']\n",
    "            save_path = os.path.join(augmented_save_path, image_file)  # 파일 확장자를 유지\n",
    "            Image.fromarray(transformed_image).save(save_path)\n",
    "            ids.append(image_file)\n",
    "            targets.append(target)\n",
    "\n",
    "# 증강된 이미지 데이터를 DataFrame에 추가하고 결과 저장\n",
    "aug_df = pd.DataFrame({'ID': ids, 'target': targets})\n"
   ]
  },
  {
   "cell_type": "code",
   "execution_count": 17,
   "metadata": {},
   "outputs": [
    {
     "name": "stdout",
     "output_type": "stream",
     "text": [
      "원본 데이터셋 크기: 1570\n",
      "rotate 증강된 데이터셋 크기: 4710\n",
      "rotateflip 증강된 데이터셋 크기: 4710\n",
      "증강완료된 데이터셋 크기: 10990\n",
      "전체 데이터셋 크기: 21980\n"
     ]
    }
   ],
   "source": [
    "# 원본 데이터셋의 크기\n",
    "original_size = len(df)\n",
    "# 증강된 데이터셋의 크기\n",
    "rotate_size = len(rotate_df)\n",
    "rotateflip_size = len(rotateflip_df)\n",
    "augmented_size = len(aug_df)\n",
    "# 전체 데이터셋의 크기\n",
    "total_size = len(df) + len(rotate_df) + len(rotateflip_df) + len(aug_df)\n",
    "\n",
    "print(f\"원본 데이터셋 크기: {original_size}\")\n",
    "print(f\"rotate 증강된 데이터셋 크기: {rotate_size}\")\n",
    "print(f\"rotateflip 증강된 데이터셋 크기: {rotateflip_size}\")\n",
    "print(f\"증강완료된 데이터셋 크기: {augmented_size}\")\n",
    "print(f\"전체 데이터셋 크기: {total_size}\")"
   ]
  },
  {
   "cell_type": "code",
   "execution_count": 18,
   "metadata": {},
   "outputs": [
    {
     "name": "stdout",
     "output_type": "stream",
     "text": [
      "'A_rotateandflip' 폴더 내의 파일 수: 10990\n"
     ]
    }
   ],
   "source": [
    "augmented_files = os.listdir(augmented_save_path)\n",
    "print(f\"'A_rotateandflip' 폴더 내의 파일 수: {len(augmented_files)}\")"
   ]
  },
  {
   "cell_type": "code",
   "execution_count": 101,
   "metadata": {},
   "outputs": [],
   "source": [
    "aug_df.to_csv('./data/A_rotateandflip_train.csv', index=False)"
   ]
  },
  {
   "cell_type": "code",
   "execution_count": 1,
   "metadata": {},
   "outputs": [
    {
     "name": "stdout",
     "output_type": "stream",
     "text": [
      "'./data/augmented/A_rotateandflip' 폴더와 그 안의 모든 이미지가 삭제되었습니다.\n",
      "'./data/A_rotateandflip_train.csv' 파일이 삭제되었습니다.\n"
     ]
    }
   ],
   "source": [
    "# import shutil\n",
    "# import os\n",
    "\n",
    "# # 증강된 이미지가 저장된 폴더 삭제\n",
    "# rotate_path = './data/augmented/rotate'\n",
    "# if os.path.exists(rotate_path):\n",
    "#     shutil.rmtree(rotate_path)\n",
    "#     print(f\"'{rotate_path}' 폴더와 그 안의 모든 이미지가 삭제되었습니다.\")\n",
    "    \n",
    "# # 증강된 이미지가 저장된 폴더 삭제\n",
    "# rotateflip_path = './data/augmented/rotateflip'\n",
    "# if os.path.exists(rotateflip_path):\n",
    "#     shutil.rmtree(rotateflip_path)\n",
    "#     print(f\"'{rotateflip_path}' 폴더와 그 안의 모든 이미지가 삭제되었습니다.\")\n",
    "\n",
    "\n",
    "# albumentations_path = './data/augmented/A_rotateandflip'\n",
    "# if os.path.exists(albumentations_path):\n",
    "#     shutil.rmtree(albumentations_path)\n",
    "#     print(f\"'{albumentations_path}' 폴더와 그 안의 모든 이미지가 삭제되었습니다.\")\n",
    "\n",
    "\n",
    "# # 생성된 CSV 파일 삭제\n",
    "# csv_file_path = './data/rotate_train.csv'\n",
    "# if os.path.exists(csv_file_path):\n",
    "#     os.remove(csv_file_path)\n",
    "#     print(f\"'{csv_file_path}' 파일이 삭제되었습니다.\")\n",
    "    \n",
    "# csv_file_path = './data/rotateflip_train.csv'\n",
    "# if os.path.exists(csv_file_path):\n",
    "#     os.remove(csv_file_path)\n",
    "#     print(f\"'{csv_file_path}' 파일이 삭제되었습니다.\")\n",
    "    \n",
    "# csv_file_path = './data/A_rotateandflip_train.csv'\n",
    "# if os.path.exists(csv_file_path):\n",
    "#     os.remove(csv_file_path)\n",
    "#     print(f\"'{csv_file_path}' 파일이 삭제되었습니다.\")"
   ]
  },
  {
   "cell_type": "code",
   "execution_count": null,
   "metadata": {},
   "outputs": [],
   "source": []
  }
 ],
 "metadata": {
  "kernelspec": {
   "display_name": "aistages1",
   "language": "python",
   "name": "aistages1"
  },
  "language_info": {
   "codemirror_mode": {
    "name": "ipython",
    "version": 3
   },
   "file_extension": ".py",
   "mimetype": "text/x-python",
   "name": "python",
   "nbconvert_exporter": "python",
   "pygments_lexer": "ipython3",
   "version": "3.10.13"
  }
 },
 "nbformat": 4,
 "nbformat_minor": 2
}
