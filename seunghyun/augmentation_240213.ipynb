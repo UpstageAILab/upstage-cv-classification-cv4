{
 "cells": [
  {
   "cell_type": "code",
   "execution_count": 15,
   "metadata": {},
   "outputs": [],
   "source": [
    "import pandas as pd \n",
    "import numpy as np \n",
    "import matplotlib.pyplot as plt \n",
    "import os \n",
    "from glob import glob \n",
    "from PIL import Image, ImageOps\n",
    "import albumentations as A\n",
    "import cv2\n",
    "from tqdm import tqdm\n",
    "import random"
   ]
  },
  {
   "cell_type": "code",
   "execution_count": 16,
   "metadata": {},
   "outputs": [],
   "source": [
    "# 시드 고정\n",
    "random_seed = 42\n",
    "random.seed(random_seed)  # Python의 내장 random 모듈의 시드 고정\n",
    "np.random.seed(random_seed)  # NumPy의 시드 고정\n",
    "os.environ['PYTHONHASHSEED'] = str(random_seed)  # 환경 변수를 통한 Python 해시 시드 고정"
   ]
  },
  {
   "cell_type": "code",
   "execution_count": 17,
   "metadata": {},
   "outputs": [],
   "source": [
    "# 데이터셋 로드\n",
    "df = pd.read_csv('./data/train.csv')\n",
    "rotate_df = pd.read_csv('./data/rotate_train.csv')\n",
    "rotateflip_df = pd.read_csv('./data/rotateflip_train.csv')"
   ]
  },
  {
   "cell_type": "code",
   "execution_count": 18,
   "metadata": {},
   "outputs": [
    {
     "name": "stderr",
     "output_type": "stream",
     "text": [
      "/opt/conda/lib/python3.10/site-packages/albumentations/augmentations/dropout/cutout.py:49: FutureWarning: Cutout has been deprecated. Please use CoarseDropout\n",
      "  warnings.warn(\n"
     ]
    }
   ],
   "source": [
    "# 증강 파이프라인 정의\n",
    "transforms = A.Compose([\n",
    "    A.GaussNoise(var_limit=(10, 50), p=0.5),\n",
    "    A.ColorJitter(brightness=0.2, contrast=0.2, saturation=0.2, hue=0.2, p=0.5),\n",
    "    A.GridDistortion(num_steps=5, distort_limit=0.5, p=0.5),\n",
    "    A.Blur(blur_limit=3, p=0.5),\n",
    "    A.MotionBlur(blur_limit=3, p=0.5),\n",
    "    A.CoarseDropout(max_holes=8, max_height=8, max_width=8, min_holes=1, min_height=1, min_width=1, p=0.5),\n",
    "    A.HueSaturationValue(hue_shift_limit=20, sat_shift_limit=30, val_shift_limit=20, p=0.5),\n",
    "    A.ElasticTransform(alpha=1, sigma=50, alpha_affine=50, p=0.5),\n",
    "    A.RandomBrightnessContrast(brightness_limit=0.2, contrast_limit=0.2, p=0.5),\n",
    "    A.RandomGamma(gamma_limit=(80, 120), p=0.5),\n",
    "    A.CLAHE(clip_limit=2.0, tile_grid_size=(8, 8), p=0.5),\n",
    "    A.Emboss(alpha=(0.2, 0.5), strength=(0.2, 0.7), p=0.5),\n",
    "    A.Sharpen(alpha=(0.2, 0.5), lightness=(0.5, 1.0), p=0.5),\n",
    "    A.ChannelShuffle(p=0.5),\n",
    "    A.InvertImg(p=0.5),\n",
    "    A.Cutout(num_holes=8, max_h_size=8, max_w_size=8, p=0.5),\n",
    "    A.ToGray(p=0.5),\n",
    "    A.OpticalDistortion(distort_limit=0.05, shift_limit=0.05, p=0.5),\n",
    "    A.Perspective(scale=(0.05, 0.1), p=0.5),\n",
    "    A.Solarize(threshold=128, p=0.5)\n",
    "])"
   ]
  },
  {
   "cell_type": "code",
   "execution_count": 19,
   "metadata": {},
   "outputs": [
    {
     "name": "stderr",
     "output_type": "stream",
     "text": [
      "Processing ./data/train/:   0%|          | 0/1570 [00:00<?, ?it/s]"
     ]
    },
    {
     "name": "stderr",
     "output_type": "stream",
     "text": [
      "Processing ./data/train/: 100%|██████████| 1570/1570 [02:47<00:00,  9.39it/s]\n",
      "Processing ./data/augmented/rotate/: 100%|██████████| 4710/4710 [08:16<00:00,  9.48it/s]\n",
      "Processing ./data/augmented/rotateflip/: 100%|██████████| 4710/4710 [08:16<00:00,  9.48it/s]\n"
     ]
    }
   ],
   "source": [
    "# CSV 파일들을 하나의 데이터 프레임으로 결합\n",
    "combined_df = pd.concat([df, rotate_df, rotateflip_df], ignore_index=True)\n",
    "\n",
    "# 원본 및 회전/뒤집기된 이미지가 있는 경로\n",
    "data_paths = ['./data/train/', './data/augmented/rotate/', './data/augmented/rotateflip/']\n",
    "\n",
    "# 최종 증강된 이미지를 저장할 경로\n",
    "augmented_path = './data/augmented/A_13/'\n",
    "os.makedirs(augmented_path, exist_ok=True)  # 폴더가 없으면 생성\n",
    "\n",
    "ids = []\n",
    "targets = []\n",
    "\n",
    "for data_path in data_paths:\n",
    "    image_files = [f for f in os.listdir(data_path) if os.path.isfile(os.path.join(data_path, f))]\n",
    "    for image_file in tqdm(image_files, desc=f'Processing {data_path}'):\n",
    "        # 데이터 프레임에서 해당 이미지 파일의 target 값을 찾음\n",
    "        target_row = combined_df[combined_df['ID'] == image_file]\n",
    "        if not target_row.empty:\n",
    "            target = target_row['target'].iloc[0]\n",
    "            # 이미지 증강 및 저장 과정\n",
    "            image_path = os.path.join(data_path, image_file)\n",
    "            image = np.array(Image.open(image_path))\n",
    "            transformed_image = transforms(image=image)['image']\n",
    "            save_path = os.path.join(augmented_path, image_file)  # 파일 확장자를 유지\n",
    "            Image.fromarray(transformed_image).save(save_path)\n",
    "            ids.append(image_file)\n",
    "            targets.append(target)\n",
    "\n",
    "# 증강된 이미지 데이터를 DataFrame에 추가하고 결과 저장\n",
    "aug_df = pd.DataFrame({'ID': ids, 'target': targets})\n"
   ]
  },
  {
   "cell_type": "code",
   "execution_count": 20,
   "metadata": {},
   "outputs": [
    {
     "name": "stdout",
     "output_type": "stream",
     "text": [
      "원본 데이터셋 크기: 10990\n",
      "증강된 데이터셋 크기: 10990\n",
      "전체 데이터셋 크기: 21980\n"
     ]
    }
   ],
   "source": [
    "# 원본 데이터셋의 크기\n",
    "original_size = len(df) + len(rotate_df) + len(rotateflip_df)\n",
    "# 증강된 데이터셋의 크기\n",
    "augmented_size = len(aug_df)\n",
    "# 전체 데이터셋의 크기\n",
    "total_size = len(df) + len(rotate_df) + len(rotateflip_df) + len(aug_df)\n",
    "\n",
    "print(f\"원본 데이터셋 크기: {original_size}\")\n",
    "print(f\"증강된 데이터셋 크기: {augmented_size}\")\n",
    "print(f\"전체 데이터셋 크기: {total_size}\")"
   ]
  },
  {
   "cell_type": "code",
   "execution_count": 21,
   "metadata": {},
   "outputs": [
    {
     "name": "stdout",
     "output_type": "stream",
     "text": [
      "'A' 폴더 내의 파일 수: 10990\n"
     ]
    }
   ],
   "source": [
    "# 'augmented/albumentations' 폴더 내의 파일 수 확인\n",
    "augmented_files = os.listdir(augmented_path)\n",
    "print(f\"'A' 폴더 내의 파일 수: {len(augmented_files)}\")"
   ]
  },
  {
   "cell_type": "code",
   "execution_count": 22,
   "metadata": {},
   "outputs": [],
   "source": [
    "aug_df.to_csv('./data/A_13_train.csv', index=False)"
   ]
  },
  {
   "cell_type": "code",
   "execution_count": 23,
   "metadata": {},
   "outputs": [],
   "source": [
    "# import shutil\n",
    "# import os\n",
    "\n",
    "# # 증강된 이미지가 저장된 폴더 삭제\n",
    "# albumentations_path = './data/augmented/A_13'\n",
    "# if os.path.exists(albumentations_path):\n",
    "#     shutil.rmtree(albumentations_path)\n",
    "#     print(f\"'{albumentations_path}' 폴더와 그 안의 모든 이미지가 삭제되었습니다.\")\n",
    "\n",
    "# # 생성된 CSV 파일 삭제\n",
    "# csv_file_path = './data/A_13_train.csv'\n",
    "# if os.path.exists(csv_file_path):\n",
    "#     os.remove(csv_file_path)\n",
    "#     print(f\"'{csv_file_path}' 파일이 삭제되었습니다.\")\n"
   ]
  },
  {
   "cell_type": "code",
   "execution_count": null,
   "metadata": {},
   "outputs": [],
   "source": []
  }
 ],
 "metadata": {
  "kernelspec": {
   "display_name": "aistages1",
   "language": "python",
   "name": "aistages1"
  },
  "language_info": {
   "codemirror_mode": {
    "name": "ipython",
    "version": 3
   },
   "file_extension": ".py",
   "mimetype": "text/x-python",
   "name": "python",
   "nbconvert_exporter": "python",
   "pygments_lexer": "ipython3",
   "version": "3.10.13"
  }
 },
 "nbformat": 4,
 "nbformat_minor": 2
}
