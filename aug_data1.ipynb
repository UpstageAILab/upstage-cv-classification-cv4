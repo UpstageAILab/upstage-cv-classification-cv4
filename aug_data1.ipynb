{
 "cells": [
  {
   "cell_type": "code",
   "execution_count": 109,
   "metadata": {},
   "outputs": [],
   "source": [
    "import pandas as pd \n",
    "import numpy as np \n",
    "import matplotlib.pyplot as plt \n",
    "\n",
    "import os \n",
    "from glob import glob \n",
    "\n",
    "from PIL import Image, ImageOps\n",
    "import albumentations as A\n",
    "import cv2\n",
    "\n",
    "from tqdm import tqdm "
   ]
  },
  {
   "cell_type": "code",
   "execution_count": 32,
   "metadata": {},
   "outputs": [],
   "source": [
    "df = pd.read_csv('../data/train.csv')"
   ]
  },
  {
   "cell_type": "code",
   "execution_count": 53,
   "metadata": {},
   "outputs": [],
   "source": [
    "transforms = A.Compose([\n",
    "    A.OneOf([\n",
    "        A.HorizontalFlip(),\n",
    "        A.VerticalFlip(),\n",
    "    ]),\n",
    "    A.RandomBrightnessContrast(brightness_limit=(-0.3, 0.3), contrast_limit=(-0.3, 0.3), p=0.5),\n",
    "    A.HueSaturationValue(p=0.5),\n",
    "    A.Transpose(p=0.5),\n",
    "    A.Rotate(limit=90, border_mode=cv2.BORDER_REPLICATE),\n",
    "    A.CoarseDropout(p=0.5, max_holes=30, max_height=8, max_width=8, min_holes=8, min_height=8, min_width=8),\n",
    "    A.ElasticTransform(p=0.5, alpha=1.0, sigma=50.0, alpha_affine=50.0, interpolation=0, border_mode=1, value=(0, 0, 0), mask_value=None, approximate=False),\n",
    "    # A.Equalize(p=0.5, mode='cv', by_channels=False),\n",
    "    A.SomeOf([\n",
    "        A.Blur(blur_limit=3),\n",
    "        A.MotionBlur(blur_limit=3),\n",
    "        A.Downscale(scale_min=0.699999988079071, scale_max=0.9900000095367432, interpolation=3),\n",
    "        A.GaussNoise(var_limit=(0, 700), per_channel=True),\n",
    "    ], n=2, p=0.85),\n",
    "    A.GridDistortion(p=0.5, num_steps=5, distort_limit=(-0.029999999329447746, 0.05000000074505806), interpolation=2, border_mode=0, value=(0, 0, 0), mask_value=None, normalized=True)\n",
    "])"
   ]
  },
  {
   "cell_type": "code",
   "execution_count": 26,
   "metadata": {},
   "outputs": [
    {
     "name": "stderr",
     "output_type": "stream",
     "text": [
      "Image augmentation: 1570it [54:55,  2.10s/it]\n"
     ]
    }
   ],
   "source": [
    "ids = []\n",
    "targets = []\n",
    "data_path = '../data/train/'\n",
    "for index, ID, target in tqdm(df.itertuples(), desc='Image augmentation', mininterval=0.1):\n",
    "    image_path = os.path.join(data_path, ID)\n",
    "    image = np.array(Image.open(image_path))\n",
    "    if target == 13:\n",
    "        n = 25\n",
    "    elif target == 14:\n",
    "        n = 35\n",
    "    elif target == 1:\n",
    "        n = 45\n",
    "    else:\n",
    "        n = 20\n",
    "    for i in range(n):\n",
    "        transformed_image = transforms(image=image)['image']\n",
    "        image_ID = f'tf{i}_' + ID \n",
    "        ids.append(image_ID)\n",
    "        targets.append(target)\n",
    "        Image.fromarray(transformed_image).save(os.path.join(data_path, image_ID))\n",
    "\n",
    "aug_data = {\n",
    "    'ID' : ids,\n",
    "    'target' : targets\n",
    "}\n",
    "aug_df = pd.DataFrame(aug_data)    \n",
    "df = pd.concat([df, aug_df])"
   ]
  },
  {
   "cell_type": "code",
   "execution_count": 29,
   "metadata": {},
   "outputs": [],
   "source": [
    "df.to_csv('../data/add_transformed_train.csv', index=False)"
   ]
  }
 ],
 "metadata": {
  "kernelspec": {
   "display_name": "base",
   "language": "python",
   "name": "python3"
  },
  "language_info": {
   "codemirror_mode": {
    "name": "ipython",
    "version": 3
   },
   "file_extension": ".py",
   "mimetype": "text/x-python",
   "name": "python",
   "nbconvert_exporter": "python",
   "pygments_lexer": "ipython3",
   "version": "3.10.13"
  }
 },
 "nbformat": 4,
 "nbformat_minor": 2
}
