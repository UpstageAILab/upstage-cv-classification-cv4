{
 "cells": [
  {
   "cell_type": "code",
   "execution_count": 1,
   "metadata": {},
   "outputs": [],
   "source": [
    "import pandas as pd \n",
    "import numpy as np \n",
    "import matplotlib.pyplot as plt \n",
    "\n",
    "import os \n",
    "from glob import glob \n",
    "\n",
    "from PIL import Image, ImageOps\n",
    "import albumentations as A\n",
    "import cv2\n",
    "\n",
    "from tqdm import tqdm "
   ]
  },
  {
   "cell_type": "code",
   "execution_count": 2,
   "metadata": {},
   "outputs": [],
   "source": [
    "df = pd.read_csv('../data/train.csv')"
   ]
  },
  {
   "cell_type": "code",
   "execution_count": 4,
   "metadata": {},
   "outputs": [
    {
     "name": "stderr",
     "output_type": "stream",
     "text": [
      "Image rotation: 1570it [00:39, 39.73it/s]\n"
     ]
    }
   ],
   "source": [
    "ids = []\n",
    "targets = []\n",
    "data_path = '../data/train/'\n",
    "for index, ID, target in tqdm(df.itertuples(), desc='Image rotation', mininterval=0.1):\n",
    "    image_path = os.path.join(data_path, ID)\n",
    "\n",
    "    # 90도 회전 \n",
    "    id_90 = 'r90_'+ ID\n",
    "    ids.append(id_90)\n",
    "    targets.append(target)\n",
    "    rotate90_image = np.array(ImageOps.exif_transpose(Image.open(image_path).rotate(90, expand=True)))\n",
    "    Image.fromarray(rotate90_image).save(os.path.join(data_path, id_90))\n",
    "    \n",
    "    # 180도 회전 \n",
    "    id_180 = 'r180_'+ ID\n",
    "    ids.append(id_180)\n",
    "    targets.append(target)\n",
    "    rotate180_image = np.array(ImageOps.exif_transpose(Image.open(image_path).rotate(180, expand=True)))\n",
    "    Image.fromarray(rotate180_image).save(os.path.join(data_path, id_180))\n",
    "\n",
    "    # 270도 회전 \n",
    "    id_270 = 'r270_'+ ID\n",
    "    ids.append(id_270)\n",
    "    targets.append(target)\n",
    "    rotate270_image = np.array(ImageOps.exif_transpose(Image.open(image_path).rotate(270, expand=True)))\n",
    "    Image.fromarray(rotate270_image).save(os.path.join(data_path, id_270))\n",
    "\n",
    "rotate_data = {\n",
    "    'ID' : ids,\n",
    "    'target' : targets\n",
    "}\n",
    "rotate_df = pd.DataFrame(rotate_data)    \n",
    "df = pd.concat([df, rotate_df])"
   ]
  },
  {
   "cell_type": "code",
   "execution_count": 6,
   "metadata": {},
   "outputs": [],
   "source": [
    "H_flip = A.HorizontalFlip(always_apply=True, p=1)\n",
    "V_flip = A.VerticalFlip(always_apply=True, p=1)"
   ]
  },
  {
   "cell_type": "code",
   "execution_count": 7,
   "metadata": {},
   "outputs": [
    {
     "name": "stderr",
     "output_type": "stream",
     "text": [
      "Image flip: 6280it [00:46, 134.02it/s]\n"
     ]
    }
   ],
   "source": [
    "ids = []\n",
    "targets = []\n",
    "data_path = '../data/train/'\n",
    "for index, ID, target in tqdm(df.itertuples(), desc='Image flip', mininterval=0.1):\n",
    "    image_path = os.path.join(data_path, ID)\n",
    "    image = np.array(Image.open(image_path))\n",
    "\n",
    "    if ID.startswith('r90') or ID.startswith('r270'):\n",
    "        # V flip\n",
    "        id_vflip = 'Vflip_'+ ID\n",
    "        ids.append(id_vflip)\n",
    "        targets.append(target)\n",
    "        vflip_image = V_flip(image=image)['image']\n",
    "        Image.fromarray(vflip_image).save(os.path.join(data_path, id_vflip))\n",
    "    else:\n",
    "        # H flip\n",
    "        id_hflip = 'Hflip_'+ ID\n",
    "        ids.append(id_hflip)\n",
    "        targets.append(target)\n",
    "        hflip_image = H_flip(image=image)['image']\n",
    "        Image.fromarray(hflip_image).save(os.path.join(data_path, id_hflip))\n",
    "    \n",
    "flip_data = {\n",
    "    'ID' : ids,\n",
    "    'target' : targets\n",
    "}\n",
    "flip_df = pd.DataFrame(flip_data)    \n",
    "df = pd.concat([df, flip_df])"
   ]
  },
  {
   "cell_type": "code",
   "execution_count": 9,
   "metadata": {},
   "outputs": [],
   "source": [
    "transforms = A.Compose([\n",
    "    A.OneOf([\n",
    "        A.GridDistortion(num_steps=5, distort_limit=0.3, interpolation=1, border_mode=4, value=None, mask_value=None, always_apply=True, p=1),\n",
    "        A.ElasticTransform(always_apply=True, p=1, alpha=1.0, sigma=50.0, alpha_affine=50.0, interpolation=0, border_mode=1, value=(0, 0, 0), mask_value=None, approximate=False),\n",
    "        A.OpticalDistortion(always_apply=True, p=1, distort_limit=(-0.3, -0.1)),\n",
    "        A.OpticalDistortion(always_apply=True, p=1, distort_limit=(0.1, 0.3)),\n",
    "    ], p=0.85),\n",
    "    A.SomeOf([\n",
    "        A.RandomBrightnessContrast(brightness_limit=(-0.2, 0.2), contrast_limit=(-0.2, 0.2), p=1),\n",
    "        A.HueSaturationValue(hue_shift_limit=15, sat_shift_limit=25, val_shift_limit=20, p=1),\n",
    "        A.MultiplicativeNoise(p=1, multiplier=(1, 1.5), per_channel=True),\n",
    "        A.Equalize(p=1, mode='cv', by_channels=True),\n",
    "    ], n=2, p=0.85),\n",
    "    A.OneOf([\n",
    "        A.Rotate(limit=(10, 30), border_mode=cv2.BORDER_CONSTANT, p=1),\n",
    "        A.Rotate(limit=(150, 170), border_mode=cv2.BORDER_CONSTANT, p=1),\n",
    "        A.Rotate(limit=(190, 210), border_mode=cv2.BORDER_CONSTANT, p=1),\n",
    "        A.Rotate(limit=(330, 350), border_mode=cv2.BORDER_CONSTANT, p=1),\n",
    "    ], p=1),\n",
    "    A.CoarseDropout(p=0.5, max_holes=40, max_height=15, max_width=15, min_holes=8, min_height=8, min_width=8),\n",
    "    A.Equalize(p=0.5, mode='cv', by_channels=True),\n",
    "    A.OneOf([\n",
    "        A.Blur(blur_limit=(3, 4), p=1),\n",
    "        A.MotionBlur(blur_limit=(3, 5), p=1),\n",
    "        A.Downscale(scale_min=0.455, scale_max=0.5, interpolation=2, p=1),\n",
    "    ], p=0.5),\n",
    "    A.GaussNoise(var_limit=(100, 800), per_channel=True, p=0.5),\n",
    "])"
   ]
  },
  {
   "cell_type": "code",
   "execution_count": 11,
   "metadata": {},
   "outputs": [
    {
     "name": "stderr",
     "output_type": "stream",
     "text": [
      "Image augmentation: 12560it [2:07:36,  1.64it/s]\n"
     ]
    }
   ],
   "source": [
    "ids = []\n",
    "targets = []\n",
    "data_path = '../data/train/'\n",
    "for index, ID, target in tqdm(df.itertuples(), desc='Image augmentation', mininterval=0.1):\n",
    "    image_path = os.path.join(data_path, ID)\n",
    "    image = np.array(Image.open(image_path))\n",
    "    if target == 13:\n",
    "        n = 13\n",
    "    elif target == 14:\n",
    "        n = 20\n",
    "    elif target == 1:\n",
    "        n = 21\n",
    "    else:\n",
    "        n = 10\n",
    "    for i in range(n):\n",
    "        transformed_image = transforms(image=image)['image']\n",
    "        image_ID = f'tf{i}_' + ID \n",
    "        ids.append(image_ID)\n",
    "        targets.append(target)\n",
    "        Image.fromarray(transformed_image).save(os.path.join(data_path, image_ID))\n",
    "    \n",
    "aug_data = {\n",
    "    'ID' : ids,\n",
    "    'target' : targets\n",
    "}\n",
    "aug_df = pd.DataFrame(aug_data)    \n",
    "df = pd.concat([df, aug_df])"
   ]
  },
  {
   "cell_type": "code",
   "execution_count": 15,
   "metadata": {},
   "outputs": [],
   "source": [
    "df.to_csv('../data/add_transformed_train.csv', index=False)"
   ]
  }
 ],
 "metadata": {
  "kernelspec": {
   "display_name": "base",
   "language": "python",
   "name": "python3"
  },
  "language_info": {
   "codemirror_mode": {
    "name": "ipython",
    "version": 3
   },
   "file_extension": ".py",
   "mimetype": "text/x-python",
   "name": "python",
   "nbconvert_exporter": "python",
   "pygments_lexer": "ipython3",
   "version": "3.10.13"
  }
 },
 "nbformat": 4,
 "nbformat_minor": 2
}
