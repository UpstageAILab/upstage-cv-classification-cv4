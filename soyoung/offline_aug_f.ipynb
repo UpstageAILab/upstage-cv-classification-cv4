{
 "cells": [
  {
   "cell_type": "code",
   "execution_count": 25,
   "metadata": {},
   "outputs": [],
   "source": [
    "import pandas as pd \n",
    "import numpy as np \n",
    "\n",
    "import os \n",
    "from glob import glob \n",
    "\n",
    "from PIL import Image\n",
    "import albumentations as A\n",
    "\n",
    "from tqdm import tqdm"
   ]
  },
  {
   "cell_type": "code",
   "execution_count": 26,
   "metadata": {},
   "outputs": [],
   "source": [
    "# 잘못된 label 업데이트\n",
    "train_df = pd.read_csv(\"data/train.csv\")\n",
    "train_df.loc[428, 'target'] = 7\n",
    "train_df.loc[1095, 'target'] = 14\n",
    "train_df.loc[862, 'target'] = 3\n",
    "train_df.loc[192, 'target'] = 7\n",
    "train_df.loc[1237, 'target'] = 14\n",
    "train_df.loc[38, 'target'] = 10\n",
    "train_df.loc[340, 'target'] = 10\n",
    "\n",
    "train_df.to_csv(\"data/train.csv\", index=False)"
   ]
  },
  {
   "cell_type": "code",
   "execution_count": 27,
   "metadata": {},
   "outputs": [],
   "source": [
    "df = pd.read_csv('data/train.csv')"
   ]
  },
  {
   "cell_type": "code",
   "execution_count": 28,
   "metadata": {},
   "outputs": [],
   "source": [
    "data_path = 'data/train/'"
   ]
  },
  {
   "cell_type": "code",
   "execution_count": 29,
   "metadata": {},
   "outputs": [],
   "source": [
    "horizontal_flip = A.Compose([\n",
    "    A.HorizontalFlip(p=1),\n",
    "])\n",
    "\n",
    "vertical_flip = A.Compose([\n",
    "    A.VerticalFlip(p=1),\n",
    "])\n",
    "\n",
    "double_flip = A.Compose([\n",
    "    A.HorizontalFlip(p=1),\n",
    "    A.VerticalFlip(p=1),\n",
    "])\n",
    "\n",
    "transpose = A.Compose([\n",
    "    A.Transpose(p=1)\n",
    "])\n",
    "\n",
    "transpose_hflip = A.Compose([\n",
    "    A.Transpose(p=1), \n",
    "    A.HorizontalFlip(p=1),\n",
    "])\n",
    "\n",
    "transpose_vflip = A.Compose([\n",
    "    A.Transpose(p=1),\n",
    "    A.VerticalFlip(p=1),\n",
    "])\n",
    "\n",
    "transpose_dflip = A.Compose([\n",
    "    A.Transpose(p=1),  \n",
    "    A.HorizontalFlip(p=1),\n",
    "    A.VerticalFlip(p=1),\n",
    "])\n",
    "\n",
    "noise_rotate = A.Compose([\n",
    "    A.GaussNoise(var_limit=(100, 1000), per_channel=False, p=1),\n",
    "    A.Blur(blur_limit=(2, 4), p=0.5),\n",
    "    A.ToGray(p=0.2),\n",
    "    A.ShiftScaleRotate(shift_limit=0.2, scale_limit=0, rotate_limit=30, p=0.4, border_mode=0, value=(255, 255, 255)),\n",
    "])"
   ]
  },
  {
   "cell_type": "code",
   "execution_count": 30,
   "metadata": {},
   "outputs": [],
   "source": [
    "base_aug_types = [\n",
    "    (\"hf_\", horizontal_flip),\n",
    "    (\"vf_\", vertical_flip),\n",
    "    (\"df_\", double_flip),\n",
    "    (\"tp_\", transpose),\n",
    "    (\"tphf_\", transpose_hflip),\n",
    "    (\"tpvf_\", transpose_vflip),\n",
    "    (\"tpdf_\", transpose_dflip)\n",
    "]"
   ]
  },
  {
   "cell_type": "code",
   "execution_count": 31,
   "metadata": {},
   "outputs": [
    {
     "name": "stderr",
     "output_type": "stream",
     "text": [
      "Image augmentation: 100%|██████████| 1570/1570 [01:07<00:00, 23.27it/s]\n"
     ]
    }
   ],
   "source": [
    "ids = []\n",
    "targets = []\n",
    "for index, ID, target in tqdm(df.itertuples(), total=df.shape[0], desc='Image augmentation'):\n",
    "    image_path = os.path.join(data_path, ID)\n",
    "    image = np.array(Image.open(image_path))\n",
    "    \n",
    "    for prefix, aug_function in base_aug_types:\n",
    "        transformed_image = aug_function(image=image)['image']\n",
    "        new_ID = prefix + ID\n",
    "        ids.append(new_ID)\n",
    "        targets.append(target)\n",
    "        Image.fromarray(transformed_image).save(os.path.join(data_path, new_ID))\n",
    "        \n",
    "aug_data = {\n",
    "    'ID' : ids,\n",
    "    'target' : targets\n",
    "}\n",
    "aug_data = pd.DataFrame(aug_data)    \n",
    "df = pd.concat([df, aug_data])"
   ]
  },
  {
   "cell_type": "code",
   "execution_count": 32,
   "metadata": {},
   "outputs": [
    {
     "name": "stderr",
     "output_type": "stream",
     "text": [
      "Image augmentation: 100%|██████████| 12560/12560 [25:57<00:00,  8.07it/s]\n"
     ]
    }
   ],
   "source": [
    "ids = []\n",
    "targets = []\n",
    "for index, ID, target in tqdm(df.itertuples(), total=df.shape[0], desc='Image augmentation'):\n",
    "    image_path = os.path.join(data_path, ID)\n",
    "    image = np.array(Image.open(image_path))\n",
    "\n",
    "    for i in range(7):\n",
    "        transformed_image = noise_rotate(image=image)['image']\n",
    "        image_ID = f'nb{i}_' + ID \n",
    "        ids.append(image_ID)\n",
    "        targets.append(target)\n",
    "        Image.fromarray(transformed_image).save(os.path.join(data_path, image_ID))\n",
    "    \n",
    "nb_data = {\n",
    "    'ID' : ids,\n",
    "    'target' : targets\n",
    "}\n",
    "nb_data = pd.DataFrame(nb_data)    \n",
    "df = pd.concat([df, nb_data])"
   ]
  },
  {
   "cell_type": "code",
   "execution_count": 33,
   "metadata": {},
   "outputs": [],
   "source": [
    "df.to_csv('data/aug_train.csv', index=False)"
   ]
  },
  {
   "cell_type": "code",
   "execution_count": 34,
   "metadata": {},
   "outputs": [
    {
     "data": {
      "text/plain": [
       "(100480, 2)"
      ]
     },
     "execution_count": 34,
     "metadata": {},
     "output_type": "execute_result"
    }
   ],
   "source": [
    "df.shape"
   ]
  }
 ],
 "metadata": {
  "kernelspec": {
   "display_name": "base",
   "language": "python",
   "name": "python3"
  },
  "language_info": {
   "codemirror_mode": {
    "name": "ipython",
    "version": 3
   },
   "file_extension": ".py",
   "mimetype": "text/x-python",
   "name": "python",
   "nbconvert_exporter": "python",
   "pygments_lexer": "ipython3",
   "version": "3.10.13"
  }
 },
 "nbformat": 4,
 "nbformat_minor": 2
}
